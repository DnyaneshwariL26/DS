{
 "cells": [
  {
   "cell_type": "code",
   "execution_count": 45,
   "id": "c4a1e250-c5ad-40ee-935e-871e8d3d62d0",
   "metadata": {},
   "outputs": [],
   "source": [
    "import pandas as pd\n",
    "import numpy as np\n",
    "import matplotlib.pyplot as plt\n",
    "import seaborn as sns"
   ]
  },
  {
   "cell_type": "code",
   "execution_count": 46,
   "id": "359dfcac-91eb-4fa6-9413-8baa4471d65a",
   "metadata": {},
   "outputs": [],
   "source": [
    "df = pd.read_csv(\"AcademicPerformance.csv\") "
   ]
  },
  {
   "cell_type": "code",
   "execution_count": 47,
   "id": "886798c2-09c5-4ddb-84c3-747aff55ec3c",
   "metadata": {},
   "outputs": [
    {
     "data": {
      "text/html": [
       "<div>\n",
       "<style scoped>\n",
       "    .dataframe tbody tr th:only-of-type {\n",
       "        vertical-align: middle;\n",
       "    }\n",
       "\n",
       "    .dataframe tbody tr th {\n",
       "        vertical-align: top;\n",
       "    }\n",
       "\n",
       "    .dataframe thead th {\n",
       "        text-align: right;\n",
       "    }\n",
       "</style>\n",
       "<table border=\"1\" class=\"dataframe\">\n",
       "  <thead>\n",
       "    <tr style=\"text-align: right;\">\n",
       "      <th></th>\n",
       "      <th>gender</th>\n",
       "      <th>NationalITy</th>\n",
       "      <th>PlaceofBirth</th>\n",
       "      <th>StageID</th>\n",
       "      <th>GradeID</th>\n",
       "      <th>SectionID</th>\n",
       "      <th>Topic</th>\n",
       "      <th>Semester</th>\n",
       "      <th>Relation</th>\n",
       "      <th>raisedhands</th>\n",
       "      <th>VisITedResources</th>\n",
       "      <th>AnnouncementsView</th>\n",
       "      <th>Discussion</th>\n",
       "      <th>ParentAnsweringSurvey</th>\n",
       "      <th>ParentschoolSatisfaction</th>\n",
       "      <th>StudentAbsenceDays</th>\n",
       "      <th>Class</th>\n",
       "    </tr>\n",
       "  </thead>\n",
       "  <tbody>\n",
       "    <tr>\n",
       "      <th>0</th>\n",
       "      <td>M</td>\n",
       "      <td>KW</td>\n",
       "      <td>KuwaIT</td>\n",
       "      <td>lowerlevel</td>\n",
       "      <td>G-04</td>\n",
       "      <td>A</td>\n",
       "      <td>IT</td>\n",
       "      <td>F</td>\n",
       "      <td>Father</td>\n",
       "      <td>15.0</td>\n",
       "      <td>16.0</td>\n",
       "      <td>2.0</td>\n",
       "      <td>20</td>\n",
       "      <td>Yes</td>\n",
       "      <td>Good</td>\n",
       "      <td>Under-7</td>\n",
       "      <td>M</td>\n",
       "    </tr>\n",
       "    <tr>\n",
       "      <th>1</th>\n",
       "      <td>M</td>\n",
       "      <td>KW</td>\n",
       "      <td>KuwaIT</td>\n",
       "      <td>lowerlevel</td>\n",
       "      <td>G-04</td>\n",
       "      <td>NaN</td>\n",
       "      <td>IT</td>\n",
       "      <td>F</td>\n",
       "      <td>Father</td>\n",
       "      <td>20.0</td>\n",
       "      <td>20.0</td>\n",
       "      <td>3.0</td>\n",
       "      <td>25</td>\n",
       "      <td>Yes</td>\n",
       "      <td>Good</td>\n",
       "      <td>Under-7</td>\n",
       "      <td>M</td>\n",
       "    </tr>\n",
       "    <tr>\n",
       "      <th>2</th>\n",
       "      <td>M</td>\n",
       "      <td>KW</td>\n",
       "      <td>KuwaIT</td>\n",
       "      <td>lowerlevel</td>\n",
       "      <td>G-04</td>\n",
       "      <td>A</td>\n",
       "      <td>IT</td>\n",
       "      <td>NaN</td>\n",
       "      <td>Father</td>\n",
       "      <td>10.0</td>\n",
       "      <td>7.0</td>\n",
       "      <td>0.0</td>\n",
       "      <td>30</td>\n",
       "      <td>15</td>\n",
       "      <td>Bad</td>\n",
       "      <td>Above-7</td>\n",
       "      <td>L</td>\n",
       "    </tr>\n",
       "    <tr>\n",
       "      <th>3</th>\n",
       "      <td>NaN</td>\n",
       "      <td>KW</td>\n",
       "      <td>KuwaIT</td>\n",
       "      <td>lowerlevel</td>\n",
       "      <td>G-04</td>\n",
       "      <td>A</td>\n",
       "      <td>IT</td>\n",
       "      <td>F</td>\n",
       "      <td>Father</td>\n",
       "      <td>30.0</td>\n",
       "      <td>25.0</td>\n",
       "      <td>5.0</td>\n",
       "      <td>35</td>\n",
       "      <td>No</td>\n",
       "      <td>Bad</td>\n",
       "      <td>Above-7</td>\n",
       "      <td>L</td>\n",
       "    </tr>\n",
       "    <tr>\n",
       "      <th>4</th>\n",
       "      <td>M</td>\n",
       "      <td>KW</td>\n",
       "      <td>KuwaIT</td>\n",
       "      <td>lowerlevel</td>\n",
       "      <td>G-04</td>\n",
       "      <td>A</td>\n",
       "      <td>IT</td>\n",
       "      <td>F</td>\n",
       "      <td>Father</td>\n",
       "      <td>40.0</td>\n",
       "      <td>50.0</td>\n",
       "      <td>12.0</td>\n",
       "      <td>50</td>\n",
       "      <td>No</td>\n",
       "      <td>Bad</td>\n",
       "      <td>Above-7</td>\n",
       "      <td>M</td>\n",
       "    </tr>\n",
       "  </tbody>\n",
       "</table>\n",
       "</div>"
      ],
      "text/plain": [
       "  gender NationalITy PlaceofBirth     StageID GradeID SectionID Topic  \\\n",
       "0      M          KW       KuwaIT  lowerlevel    G-04         A    IT   \n",
       "1      M          KW       KuwaIT  lowerlevel    G-04       NaN    IT   \n",
       "2      M          KW       KuwaIT  lowerlevel    G-04         A    IT   \n",
       "3    NaN          KW       KuwaIT  lowerlevel    G-04         A    IT   \n",
       "4      M          KW       KuwaIT  lowerlevel    G-04         A    IT   \n",
       "\n",
       "  Semester Relation  raisedhands  VisITedResources  AnnouncementsView  \\\n",
       "0        F   Father         15.0              16.0                2.0   \n",
       "1        F   Father         20.0              20.0                3.0   \n",
       "2      NaN   Father         10.0               7.0                0.0   \n",
       "3        F   Father         30.0              25.0                5.0   \n",
       "4        F   Father         40.0              50.0               12.0   \n",
       "\n",
       "   Discussion ParentAnsweringSurvey ParentschoolSatisfaction  \\\n",
       "0          20                   Yes                     Good   \n",
       "1          25                   Yes                     Good   \n",
       "2          30                    15                      Bad   \n",
       "3          35                    No                      Bad   \n",
       "4          50                    No                      Bad   \n",
       "\n",
       "  StudentAbsenceDays Class  \n",
       "0            Under-7     M  \n",
       "1            Under-7     M  \n",
       "2            Above-7     L  \n",
       "3            Above-7     L  \n",
       "4            Above-7     M  "
      ]
     },
     "execution_count": 47,
     "metadata": {},
     "output_type": "execute_result"
    }
   ],
   "source": [
    "df.head()"
   ]
  },
  {
   "cell_type": "code",
   "execution_count": 48,
   "id": "2479288e-b07d-4345-8f63-fc6cda03d39b",
   "metadata": {},
   "outputs": [
    {
     "name": "stdout",
     "output_type": "stream",
     "text": [
      "Missing Values:\n",
      " gender                      10\n",
      "NationalITy                  0\n",
      "PlaceofBirth                 0\n",
      "StageID                      0\n",
      "GradeID                      0\n",
      "SectionID                    6\n",
      "Topic                        0\n",
      "Semester                     9\n",
      "Relation                     0\n",
      "raisedhands                 10\n",
      "VisITedResources             5\n",
      "AnnouncementsView            4\n",
      "Discussion                   0\n",
      "ParentAnsweringSurvey        0\n",
      "ParentschoolSatisfaction     0\n",
      "StudentAbsenceDays           0\n",
      "Class                        0\n",
      "dtype: int64\n"
     ]
    }
   ],
   "source": [
    "print(\"Missing Values:\\n\", df.isnull().sum())\n"
   ]
  },
  {
   "cell_type": "code",
   "execution_count": 50,
   "id": "67b0c18c-71ab-476c-9f1e-4e67a384e306",
   "metadata": {},
   "outputs": [],
   "source": [
    "df.fillna(\"Semester\", inplace=True)\n"
   ]
  },
  {
   "cell_type": "code",
   "execution_count": 51,
   "id": "5770a0cf-821e-4bb1-9a5b-3c187ea348b8",
   "metadata": {},
   "outputs": [],
   "source": [
    "df.fillna(df.mean(numeric_only=True), inplace=True)\n"
   ]
  },
  {
   "cell_type": "code",
   "execution_count": 52,
   "id": "b1d3ed41-60dc-4a29-aa15-ba5bb2b88b33",
   "metadata": {},
   "outputs": [
    {
     "data": {
      "image/png": "[encoded data removed]",
      "text/plain": [
       "<Figure size 1200x600 with 1 Axes>"
      ]
     },
     "metadata": {},
     "output_type": "display_data"
    }
   ],
   "source": [
    "plt.figure(figsize=(12, 6))\n",
    "sns.boxplot(data=df.select_dtypes(include=np.number))\n",
    "plt.title(\"Boxplot of Numeric Variables\")\n",
    "plt.show()\n"
   ]
  },
  {
   "cell_type": "code",
   "execution_count": 54,
   "id": "b1a8c8ac-4e0e-4ee0-8cc5-402306709ef8",
   "metadata": {},
   "outputs": [],
   "source": [
    "Q1 = df.select_dtypes(include=np.number).quantile(0.25)\n",
    "Q3 = df.select_dtypes(include=np.number).quantile(0.75)\n",
    "IQR = Q3 - Q1"
   ]
  },
  {
   "cell_type": "code",
   "execution_count": 55,
   "id": "b8fb8c13-d3f5-40e6-85e8-27b4bcd89e11",
   "metadata": {},
   "outputs": [],
   "source": [
    "df_cleaned = df[~((df.select_dtypes(include=np.number) < (Q1 - 1.5 * IQR)) |\n",
    "                  (df.select_dtypes(include=np.number) > (Q3 + 1.5 * IQR))).any(axis=1)]"
   ]
  },
  {
   "cell_type": "code",
   "execution_count": 56,
   "id": "d9fffdb7-3916-4242-a594-11f3aa667796",
   "metadata": {},
   "outputs": [],
   "source": [
    "numeric_cols = df.select_dtypes(include=np.number).columns\n",
    "df_cleaned = df[~((df[numeric_cols] < (Q1 - 1.5 * IQR)) |\n",
    "                  (df[numeric_cols] > (Q3 + 1.5 * IQR))).any(axis=1)]\n"
   ]
  },
  {
   "cell_type": "code",
   "execution_count": 57,
   "id": "963107a2-c981-4ff9-ab76-f3572ae46e55",
   "metadata": {},
   "outputs": [],
   "source": [
    "df.fillna(df.mean(numeric_only=True), inplace=True)\n"
   ]
  },
  {
   "cell_type": "code",
   "execution_count": 58,
   "id": "d8db0fcd-57f5-4336-99b3-a890c7cc8509",
   "metadata": {},
   "outputs": [
    {
     "name": "stdout",
     "output_type": "stream",
     "text": [
      "(480, 17)\n",
      "    gender NationalITy PlaceofBirth     StageID GradeID SectionID Topic  \\\n",
      "0        M          KW       KuwaIT  lowerlevel    G-04         A    IT   \n",
      "1        M          KW       KuwaIT  lowerlevel    G-04   Unknown    IT   \n",
      "2        M          KW       KuwaIT  lowerlevel    G-04         A    IT   \n",
      "3  Unknown          KW       KuwaIT  lowerlevel    G-04         A    IT   \n",
      "4        M          KW       KuwaIT  lowerlevel    G-04         A    IT   \n",
      "\n",
      "  Semester Relation raisedhands VisITedResources AnnouncementsView  \\\n",
      "0        F   Father        15.0             16.0               2.0   \n",
      "1        F   Father        20.0             20.0               3.0   \n",
      "2  Unknown   Father        10.0              7.0               0.0   \n",
      "3        F   Father        30.0             25.0               5.0   \n",
      "4        F   Father        40.0             50.0              12.0   \n",
      "\n",
      "   Discussion ParentAnsweringSurvey ParentschoolSatisfaction  \\\n",
      "0          20                   Yes                     Good   \n",
      "1          25                   Yes                     Good   \n",
      "2          30                    15                      Bad   \n",
      "3          35                    No                      Bad   \n",
      "4          50                    No                      Bad   \n",
      "\n",
      "  StudentAbsenceDays Class  \n",
      "0            Under-7     M  \n",
      "1            Under-7     M  \n",
      "2            Above-7     L  \n",
      "3            Above-7     L  \n",
      "4            Above-7     M  \n"
     ]
    }
   ],
   "source": [
    "print(df_cleaned.shape)  # See how many rows were retained\n",
    "print(df_cleaned.head())  # Verify changes\n"
   ]
  },
  {
   "cell_type": "code",
   "execution_count": 61,
   "id": "9c245821-942d-45f1-96e8-43fd96624a97",
   "metadata": {},
   "outputs": [],
   "source": [
    "df_cleaned['raisedhands'] = pd.to_numeric(df_cleaned['raisedhands'], errors='coerce')\n",
    "df_cleaned[\"raisedhands_log\"] = np.log1p(df_cleaned[\"raisedhands\"])\n"
   ]
  },
  {
   "cell_type": "code",
   "execution_count": 62,
   "id": "54fa6648-d3fe-4521-855f-e35b118a3092",
   "metadata": {},
   "outputs": [],
   "source": [
    "df_cleaned = df_cleaned[df_cleaned['raisedhands'] >= 0]  # Remove negative values\n",
    "df_cleaned[\"raisedhands_log\"] = np.log1p(df_cleaned[\"raisedhands\"])\n"
   ]
  },
  {
   "cell_type": "code",
   "execution_count": 63,
   "id": "345453e3-262b-4dfc-8475-6bf35cffeb10",
   "metadata": {},
   "outputs": [
    {
     "name": "stdout",
     "output_type": "stream",
     "text": [
      "0    15.0\n",
      "1    20.0\n",
      "2    10.0\n",
      "3    30.0\n",
      "4    40.0\n",
      "Name: raisedhands, dtype: float64\n"
     ]
    }
   ],
   "source": [
    "print(df_cleaned['raisedhands'].head())\n"
   ]
  },
  {
   "cell_type": "code",
   "execution_count": 64,
   "id": "fe2a923c-ebe6-401b-aaf5-f3e345f04be0",
   "metadata": {},
   "outputs": [],
   "source": [
    "from sklearn.preprocessing import MinMaxScaler\n",
    "\n",
    "scaler = MinMaxScaler()\n",
    "df_cleaned[\"Discussion_Scaled\"] = scaler.fit_transform(df_cleaned[[\"Discussion\"]])\n"
   ]
  },
  {
   "cell_type": "code",
   "execution_count": 65,
   "id": "b5b95097-a608-483d-97de-e758f7ffc0bc",
   "metadata": {},
   "outputs": [],
   "source": [
    "df_cleaned.to_csv(\"AcademicPerformance_Cleaned.csv\", index=False)\n"
   ]
  },
  {
   "cell_type": "code",
   "execution_count": null,
   "id": "2ddc3c4f-c5dd-436d-b516-f981fcbb9d29",
   "metadata": {},
   "outputs": [],
   "source": []
  }
 ],
 "metadata": {
  "kernelspec": {
   "display_name": "Python 3 (ipykernel)",
   "language": "python",
   "name": "python3"
  },
  "language_info": {
   "codemirror_mode": {
    "name": "ipython",
    "version": 3
   },
   "file_extension": ".py",
   "mimetype": "text/x-python",
   "name": "python",
   "nbconvert_exporter": "python",
   "pygments_lexer": "ipython3",
   "version": "3.12.4"
  }
 },
 "nbformat": 4,
 "nbformat_minor": 5
}
