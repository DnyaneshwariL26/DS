{
 "cells": [
  {
   "cell_type": "code",
   "execution_count": 1,
   "id": "d10a4495-a763-47d5-a25c-eda7f5abe96c",
   "metadata": {},
   "outputs": [],
   "source": [
    "import pandas as pd\n",
    "import numpy as np\n",
    "import matplotlib.pyplot as plt\n",
    "import seaborn as sns"
   ]
  },
  {
   "cell_type": "code",
   "execution_count": 2,
   "id": "73eea78f-0d17-496a-a2bc-30105809bd7e",
   "metadata": {},
   "outputs": [],
   "source": [
    "from sklearn.preprocessing import MinMaxScaler"
   ]
  },
  {
   "cell_type": "code",
   "execution_count": 3,
   "id": "9713c45d-e420-4468-ac73-7d62f7ca086e",
   "metadata": {},
   "outputs": [],
   "source": [
    "df = pd.read_csv(\"academic_performance.csv\")"
   ]
  },
  {
   "cell_type": "code",
   "execution_count": 4,
   "id": "fae7a1f4-087f-44fe-9cca-0e0df0a92082",
   "metadata": {},
   "outputs": [
    {
     "name": "stdout",
     "output_type": "stream",
     "text": [
      "   Unnamed: 0  rollno name  marks grade\n",
      "0           0       1    a   40.0     F\n",
      "1           1       2    b   23.0     F\n",
      "2           2       3    c   50.0     P\n",
      "3           3       4    d   78.0     P\n",
      "4           4       5    e   48.0     P\n"
     ]
    }
   ],
   "source": [
    "print(df.head())"
   ]
  },
  {
   "cell_type": "code",
   "execution_count": 5,
   "id": "600f250a-116e-46d8-bbbb-b2182f05ccde",
   "metadata": {},
   "outputs": [
    {
     "name": "stdout",
     "output_type": "stream",
     "text": [
      "Missing Values:\n",
      " Unnamed: 0    0\n",
      "rollno        0\n",
      "name          2\n",
      "marks         2\n",
      "grade         2\n",
      "dtype: int64\n"
     ]
    }
   ],
   "source": [
    "print(\"Missing Values:\\n\", df.isnull().sum())"
   ]
  },
  {
   "cell_type": "code",
   "execution_count": 6,
   "id": "015b6a67-22bb-4bcd-893e-b6c501fcec07",
   "metadata": {},
   "outputs": [],
   "source": [
    "df.fillna({\"name\": \"Unknown\", \"marks\": df[\"marks\"].mean(), \"grade\": \"F\"}, inplace=True)"
   ]
  },
  {
   "cell_type": "code",
   "execution_count": 7,
   "id": "6b490fac-884f-4c91-9958-467c333fa6bc",
   "metadata": {},
   "outputs": [],
   "source": [
    "# Remove rows where all values are missing\n",
    "df.dropna(inplace=True)"
   ]
  },
  {
   "cell_type": "code",
   "execution_count": 8,
   "id": "b7154995-9fb8-46c8-b261-e75884e90e19",
   "metadata": {},
   "outputs": [
    {
     "name": "stdout",
     "output_type": "stream",
     "text": [
      "       Unnamed: 0     rollno      marks\n",
      "count   15.000000  15.000000  15.000000\n",
      "mean     7.000000   8.000000  69.461538\n",
      "std      4.472136   4.472136  21.522797\n",
      "min      0.000000   1.000000  23.000000\n",
      "25%      3.500000   4.500000  57.500000\n",
      "50%      7.000000   8.000000  69.461538\n",
      "75%     10.500000  11.500000  86.500000\n",
      "max     14.000000  15.000000  97.000000\n"
     ]
    }
   ],
   "source": [
    "print(df.describe())"
   ]
  },
  {
   "cell_type": "code",
   "execution_count": 9,
   "id": "6194bfbe-45b3-4121-983f-2ea0a12151da",
   "metadata": {},
   "outputs": [
    {
     "data": {
      "image/png": "[encoded data removed]",
      "text/plain": [
       "<Figure size 1000x500 with 1 Axes>"
      ]
     },
     "metadata": {},
     "output_type": "display_data"
    }
   ],
   "source": [
    "plt.figure(figsize=(10, 5))\n",
    "sns.boxplot(data=df.select_dtypes(include=np.number))\n",
    "plt.title(\"Boxplot of Numeric Variables\")\n",
    "plt.show()"
   ]
  },
  {
   "cell_type": "code",
   "execution_count": 10,
   "id": "3e4e7843-e9b6-4803-9ab7-dfaf2cc58b0e",
   "metadata": {},
   "outputs": [],
   "source": [
    "Q1 = df[\"marks\"].quantile(0.25)\n",
    "Q3 = df[\"marks\"].quantile(0.75)\n",
    "IQR = Q3 - Q1"
   ]
  },
  {
   "cell_type": "code",
   "execution_count": 11,
   "id": "22a688a1-9c06-463d-8148-9cafdbe0e9c2",
   "metadata": {},
   "outputs": [],
   "source": [
    "df_cleaned = df[~((df[\"marks\"] < (Q1 - 1.5 * IQR)) | (df[\"marks\"] > (Q3 + 1.5 * IQR)))]"
   ]
  },
  {
   "cell_type": "code",
   "execution_count": 12,
   "id": "cab7c7eb-741a-4c43-8a61-29b180b9062b",
   "metadata": {},
   "outputs": [],
   "source": [
    "scaler = MinMaxScaler()"
   ]
  },
  {
   "cell_type": "code",
   "execution_count": 13,
   "id": "c371ceb8-bd62-4016-a9e4-efbfb75e901d",
   "metadata": {},
   "outputs": [],
   "source": [
    "df_cleaned[\"marks_scaled\"] = scaler.fit_transform(df_cleaned[[\"marks\"]])"
   ]
  },
  {
   "cell_type": "code",
   "execution_count": 14,
   "id": "6da617b3-3ca1-4337-b6c7-3d6d48483ef1",
   "metadata": {},
   "outputs": [],
   "source": [
    "df_cleaned.to_csv(\"academic_performance_cleaned.csv\", index=False)"
   ]
  },
  {
   "cell_type": "code",
   "execution_count": 15,
   "id": "c7f53ca6-d075-4744-b716-367381ccd969",
   "metadata": {},
   "outputs": [
    {
     "name": "stdout",
     "output_type": "stream",
     "text": [
      "   Unnamed: 0  rollno name  marks grade  marks_scaled\n",
      "0           0       1    a   40.0     F      0.229730\n",
      "1           1       2    b   23.0     F      0.000000\n",
      "2           2       3    c   50.0     P      0.364865\n",
      "3           3       4    d   78.0     P      0.743243\n",
      "4           4       5    e   48.0     P      0.337838\n"
     ]
    }
   ],
   "source": [
    "print(df_cleaned.head())"
   ]
  },
  {
   "cell_type": "code",
   "execution_count": null,
   "id": "8aec1960-cadd-4ac0-897f-b94e4e1223e4",
   "metadata": {},
   "outputs": [],
   "source": []
  }
 ],
 "metadata": {
  "kernelspec": {
   "display_name": "Python 3 (ipykernel)",
   "language": "python",
   "name": "python3"
  },
  "language_info": {
   "codemirror_mode": {
    "name": "ipython",
    "version": 3
   },
   "file_extension": ".py",
   "mimetype": "text/x-python",
   "name": "python",
   "nbconvert_exporter": "python",
   "pygments_lexer": "ipython3",
   "version": "3.12.4"
  }
 },
 "nbformat": 4,
 "nbformat_minor": 5
}
